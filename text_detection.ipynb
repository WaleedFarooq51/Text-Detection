{
 "cells": [
  {
   "cell_type": "code",
   "execution_count": null,
   "metadata": {
    "colab": {
     "base_uri": "https://localhost:8080/"
    },
    "executionInfo": {
     "elapsed": 40394,
     "status": "ok",
     "timestamp": 1653953121319,
     "user": {
      "displayName": "Muhammad Khan",
      "userId": "08467596017353836838"
     },
     "user_tz": -300
    },
    "id": "AakSmPipEI3a",
    "outputId": "3670565b-e519-442d-fdcd-c9e29c7e216c"
   },
   "outputs": [],
   "source": [
    "from google.colab import drive\n",
    "drive.mount('/content/drive')"
   ]
  },
  {
   "cell_type": "code",
   "execution_count": null,
   "metadata": {
    "id": "gQgvCf8uETtZ"
   },
   "outputs": [],
   "source": [
    "import sys\n",
    "sys.path.append('/content/drive/My Drive/')"
   ]
  },
  {
   "cell_type": "code",
   "execution_count": null,
   "metadata": {
    "colab": {
     "base_uri": "https://localhost:8080/"
    },
    "executionInfo": {
     "elapsed": 34555,
     "status": "ok",
     "timestamp": 1653953171663,
     "user": {
      "displayName": "Muhammad Khan",
      "userId": "08467596017353836838"
     },
     "user_tz": -300
    },
    "id": "qiDOZsBDiM6B",
    "outputId": "21b728c7-b81d-4208-feb2-393875efcc0f"
   },
   "outputs": [],
   "source": [
    "####################Installing Conda 4.9.2################\n",
    "!pip install q condacolab\n",
    "import condacolab\n",
    "condacolab.install()"
   ]
  },
  {
   "cell_type": "code",
   "execution_count": null,
   "metadata": {
    "colab": {
     "base_uri": "https://localhost:8080/"
    },
    "executionInfo": {
     "elapsed": 291263,
     "status": "ok",
     "timestamp": 1653953485463,
     "user": {
      "displayName": "Muhammad Khan",
      "userId": "08467596017353836838"
     },
     "user_tz": -300
    },
    "id": "iBwT7dANjKtE",
    "outputId": "96b729ec-8e34-49ce-dc38-a2b5df9fc50f"
   },
   "outputs": [],
   "source": [
    "#########################Installing Pytorch 1.10.0#########################\n",
    "!conda install pytorch==1.10.0 torchvision==0.11.0 torchaudio==0.10.0 cudatoolkit=11.3 -c pytorch -c conda-forge"
   ]
  },
  {
   "cell_type": "code",
   "execution_count": null,
   "metadata": {
    "colab": {
     "base_uri": "https://localhost:8080/"
    },
    "executionInfo": {
     "elapsed": 67555,
     "status": "ok",
     "timestamp": 1653953571518,
     "user": {
      "displayName": "Muhammad Khan",
      "userId": "08467596017353836838"
     },
     "user_tz": -300
    },
    "id": "Ym8RHJPynKbJ",
    "outputId": "1ed998a9-bb1e-4d82-e1ec-339354c1f35d"
   },
   "outputs": [],
   "source": [
    "##############################Installing Detectron#####################\n",
    "!pip install pyyaml==5.1\n",
    "\n",
    "!python -m pip install detectron2 -f \\\n",
    "  https://dl.fbaipublicfiles.com/detectron2/wheels/cu111/torch1.10/index.html"
   ]
  },
  {
   "cell_type": "code",
   "execution_count": null,
   "metadata": {
    "colab": {
     "base_uri": "https://localhost:8080/"
    },
    "executionInfo": {
     "elapsed": 6949,
     "status": "ok",
     "timestamp": 1653907293219,
     "user": {
      "displayName": "Muhammad Khan",
      "userId": "08467596017353836838"
     },
     "user_tz": -300
    },
    "id": "xGSIBLXhxsWP",
    "outputId": "da9ea675-5725-41a9-a1a8-86efe6a7f441"
   },
   "outputs": [],
   "source": [
    "!pip install opencv-python\n"
   ]
  },
  {
   "cell_type": "code",
   "execution_count": null,
   "metadata": {
    "colab": {
     "base_uri": "https://localhost:8080/"
    },
    "executionInfo": {
     "elapsed": 3313,
     "status": "ok",
     "timestamp": 1653907327226,
     "user": {
      "displayName": "Muhammad Khan",
      "userId": "08467596017353836838"
     },
     "user_tz": -300
    },
    "id": "nqKQskZ6kljn",
    "outputId": "f1726512-222c-40f3-ecac-bcd31a376d78"
   },
   "outputs": [],
   "source": [
    "!pip install h5py\n",
    "!pip install typing-extensions\n",
    "!pip install wheel"
   ]
  },
  {
   "cell_type": "code",
   "execution_count": null,
   "metadata": {
    "colab": {
     "base_uri": "https://localhost:8080/"
    },
    "executionInfo": {
     "elapsed": 2031,
     "status": "ok",
     "timestamp": 1653907340261,
     "user": {
      "displayName": "Muhammad Khan",
      "userId": "08467596017353836838"
     },
     "user_tz": -300
    },
    "id": "vYhXWqZKa3H0",
    "outputId": "3f09850c-9487-4e20-e75a-7b23a89cf95d"
   },
   "outputs": [],
   "source": [
    "!pip install fvcore-master.zip"
   ]
  },
  {
   "cell_type": "code",
   "execution_count": null,
   "metadata": {
    "colab": {
     "base_uri": "https://localhost:8080/"
    },
    "executionInfo": {
     "elapsed": 262180,
     "status": "ok",
     "timestamp": 1653907988714,
     "user": {
      "displayName": "Muhammad Khan",
      "userId": "08467596017353836838"
     },
     "user_tz": -300
    },
    "id": "pVQkECiow7kD",
    "outputId": "2fa2e65d-7c54-4143-9260-195ca757e9ee"
   },
   "outputs": [],
   "source": [
    "!python setup.py build develop "
   ]
  },
  {
   "cell_type": "code",
   "execution_count": null,
   "metadata": {
    "colab": {
     "base_uri": "https://localhost:8080/"
    },
    "executionInfo": {
     "elapsed": 2526,
     "status": "ok",
     "timestamp": 1653908114935,
     "user": {
      "displayName": "Muhammad Khan",
      "userId": "08467596017353836838"
     },
     "user_tz": -300
    },
    "id": "lXvSN7H0mvbx",
    "outputId": "c7407159-9c19-42df-92d9-980c352f3e71"
   },
   "outputs": [],
   "source": [
    "!pip install \"protobuf<3.20.1\""
   ]
  },
  {
   "cell_type": "code",
   "execution_count": null,
   "metadata": {
    "colab": {
     "base_uri": "https://localhost:8080/"
    },
    "executionInfo": {
     "elapsed": 2353413,
     "status": "ok",
     "timestamp": 1653925546183,
     "user": {
      "displayName": "Muhammad Khan",
      "userId": "08467596017353836838"
     },
     "user_tz": -300
    },
    "id": "T-9RhR1wgOH7",
    "outputId": "0ce75d8b-40ae-470a-852c-ad2087c02567"
   },
   "outputs": [],
   "source": [
    "######################### Training the model ######################\n",
    "!python tools/train_net.py --num-gpus 1 --config-file configs/ocr/train_config.yaml"
   ]
  },
  {
   "cell_type": "code",
   "execution_count": null,
   "metadata": {
    "id": "IAwxsvi4aI7N"
   },
   "outputs": [],
   "source": [
    "######################### Inference ##################################\n",
    "!python inference/detection_inference.py \\\n",
    "    --config-file configs/ocr/config.yaml \\\n",
    "    --testdata test_images\\\n",
    "    --weights out_dir/trained_model/model_final.pth"
   ]
  }
 ],
 "metadata": {
  "colab": {
   "provenance": []
  },
  "kernelspec": {
   "display_name": "Python 3",
   "name": "python3"
  },
  "language_info": {
   "name": "python"
  }
 },
 "nbformat": 4,
 "nbformat_minor": 0
}
